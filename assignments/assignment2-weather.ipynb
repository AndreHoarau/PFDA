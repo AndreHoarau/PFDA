{
 "cells": [
  {
   "cell_type": "markdown",
   "metadata": {},
   "source": [
    "# Assignment 2 Weather\n",
    "# Author: Andre Hoarau"
   ]
  },
  {
   "cell_type": "code",
   "execution_count": null,
   "metadata": {},
   "outputs": [],
   "source": [
    "# We need to import.\n",
    "import pandas as pd\n",
    "import matplotlib.pyplot as plt\n",
    "import matplotlib.dates as mdates"
   ]
  },
  {
   "cell_type": "code",
   "execution_count": null,
   "metadata": {},
   "outputs": [],
   "source": [
    "# Import the CSV file for the weather and make it into a pandas data frame\n",
    "# Get a feel for the data\n",
    "# Analyse the data types\n",
    "weather_data = pd.read_csv(\"/Users/andre.hoarau/OneDrive - Accenture/Documents/Training/Higher Diploma in Science - Computing (Data Analyt/Semester2/PROGRAMMING FOR DATA ANALYTICS/PFDA-courseware/assignment/weatherreadings1.csv\")\n",
    "weather_data.head()\n",
    "weather_data.dtypes\n",
    "print(weather_data.columns)\n"
   ]
  },
  {
   "cell_type": "code",
   "execution_count": null,
   "metadata": {},
   "outputs": [],
   "source": [
    "# I want to change the \"reportStartDateTime\" from an object to a date.\n",
    "\n",
    "weather_data[\"reportStartDateTime\"]= pd.to_datetime(weather_data[\"reportStartDateTime\"])\n",
    "print(weather_data[\"reportStartDateTime\"].dtypes)\n",
    "\n",
    "'''\n",
    "weather_data[\"reportStartDateTime\"]= weather_data[\"reportStartDateTime\"].str.split(\"+\").str[0]\n",
    "This is a rabbit hole I ended up going down\n",
    "# I also want to seperate the date and the times and remove the +00:00\n",
    "weather_data[[\"reportStartDate\",\"reportStartTime\"]]= weather_data[\"reportStartDateTime\"].str.split(\"T\",expand= True)\n",
    "print((weather_data[[\"reportStartDate\",\"reportStartTime\"]].dtypes))\n",
    "\n",
    "# I know will change the 2 columns to date time\n",
    "weather_data[[\"reportStartDate\",\"reportStartTime\"]]= pd.to_datetime(weather_data[[\"reportStartDate\",\"reportStartTime\"]])\n",
    "'''\n"
   ]
  },
  {
   "cell_type": "code",
   "execution_count": null,
   "metadata": {},
   "outputs": [],
   "source": [
    "\n",
    "# Set the variables\n",
    "date = weather_data[\"reportStartDateTime\"]\n",
    "temperature = weather_data[\"dryBulbTemperature_Celsius\"]\n",
    "\n",
    "# Create the plot format.\n",
    "fig, ax = plt.subplots(figsize=(20, 10))\n",
    "ax.plot(date, temperature, marker=\"o\", linestyle=\"-\", color=\"blue\", markersize=6, label=\"Temperature\")\n",
    "\n",
    "# Add labels and title\n",
    "ax.set_xlabel('Time (hh:mm)', fontsize=14, fontweight=\"bold\")\n",
    "ax.set_ylabel('Temperature (°C)', fontsize=14, fontweight=\"bold\")\n",
    "ax.set_title(\n",
    "    label=\"Temperature over Time (2024-10-02 to 2024-10-03)\", \n",
    "    fontsize=20, fontweight=\"bold\", pad=20\n",
    ")\n",
    "\n",
    "# Format the grid on the y-axis\n",
    "ax.grid(axis=\"y\", linestyle=\"--\", alpha=0.7)\n",
    "ax.minorticks_on()\n",
    "ax.grid(which=\"minor\", axis=\"y\", linestyle=\":\", alpha=0.4)  \n",
    "\n",
    "# Format the x-axis with the dates\n",
    "x_ticks = pd.date_range(start=date.min(), end=date.max(), freq=\"2H\")\n",
    "ax.set_xticks(x_ticks)\n",
    "ax.xaxis.set_major_formatter(mdates.DateFormatter(\"%m-%d %H:%M\"))  \n",
    "plt.xticks(rotation=45, fontsize=10)\n",
    "\n",
    "# Adjust layout\n",
    "plt.tight_layout()\n",
    "\n",
    "# Add a legend\n",
    "ax.legend(fontsize=12)\n",
    "\n",
    "# Display the graph\n",
    "plt.show()\n"
   ]
  },
  {
   "cell_type": "markdown",
   "metadata": {},
   "source": [
    "Resources used:\n",
    "* [Datacamp Tutorial: Importing Data](https://www.datacamp.com/tutorial/pandas-read-csv) - This reminded me how to pull in the CSV and change it to a PANDAS data frame.\n",
    "* [Simple Plot](https://matplotlib.org/3.1.1/gallery/lines_bars_and_markers/simple_plot.html#sphx-glr-gallery-lines-bars-and-markers-simple-plot-py)- Information on how to get the simple plot done.\n",
    "* [pandas.DataFrame.dtypes](https://pandas.pydata.org/docs/reference/api/pandas.DataFrame.dtypes.html)- How to get data types in a PANDAS DF.\n",
    "* [Matplotlib.axes.Axes.plot() in Python](https://www.geeksforgeeks.org/matplotlib-axes-axes-plot-in-python/)- Article on Matplotlib axes by geeksforgeeks.\n",
    "* [matplotlib.pyplot.xticks](https://matplotlib.org/stable/api/_as_gen/matplotlib.pyplot.xticks.html#matplotlib.pyplot.xticks) - Matplotlib documentation on xticks.\n",
    "* [Matplotlib.dates.DateFormatter class in Python](https://www.geeksforgeeks.org/matplotlib-dates-dateformatter-class-in-python/) -Geeks for geeks article on date formatting.\n"
   ]
  },
  {
   "cell_type": "markdown",
   "metadata": {},
   "source": [
    "# End"
   ]
  }
 ],
 "metadata": {
  "kernelspec": {
   "display_name": "base",
   "language": "python",
   "name": "python3"
  },
  "language_info": {
   "codemirror_mode": {
    "name": "ipython",
    "version": 3
   },
   "file_extension": ".py",
   "mimetype": "text/x-python",
   "name": "python",
   "nbconvert_exporter": "python",
   "pygments_lexer": "ipython3",
   "version": "3.12.4"
  }
 },
 "nbformat": 4,
 "nbformat_minor": 2
}
