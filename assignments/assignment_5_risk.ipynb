{
 "cells": [
  {
   "cell_type": "markdown",
   "metadata": {},
   "source": [
    "# Risk Assignment \n",
    "### Author Andre Hoarau\n",
    "<p align=\"center\">\n",
    "<img src =\"https://i2.pickpik.com/photos/192/49/172/risk-word-letters-boggle-preview.jpg\"\n",
    "</p>"
   ]
  },
  {
   "cell_type": "markdown",
   "metadata": {},
   "source": [
    "The task is to simulate 1000 individual battle rounds in risk with 3 attackers and 2 defenders and plot the results.\n",
    "The rules:\n",
    "    In Risk one army fights another. (using 6 sided dice)\n",
    "\n",
    "    In each battle round, the attacker can put forward up to three of their troops (3 dice).\n",
    "\n",
    "    The defender can use up to two of their defending troops (2 dice).\n",
    "\n",
    "    Each side looses troops depending on the following rules:\n",
    "\n",
    "    The two top dice dice are compared (ie the attackers top dice roll with the defenders top dice roll) \n",
    "    If the attackers dice is the same or lower they loose one troop otherwise the defender looses a troop (ie if the attackers dice is higher)\n",
    "    The next two highest dice from each side are then compared (ie the attackers second highest to the defenders second highest)\n",
    "    If the attackers dice is the same or lower they loose one troop otherwise the defender looses a troop (ie if the attackers dice is higher)"
   ]
  },
  {
   "cell_type": "code",
   "execution_count": 78,
   "metadata": {},
   "outputs": [
    {
     "data": {
      "text/plain": [
       "'print (attack_roll[:20]) \\nprint (defend_roll[:20])'"
      ]
     },
     "execution_count": 78,
     "metadata": {},
     "output_type": "execute_result"
    }
   ],
   "source": [
    "# Lets import the packages we will use.\n",
    "import numpy as np\n",
    "# Lets make an array for the attacker roll.\n",
    "attack_roll = np.random.randint(1,7, size= [1000,3])\n",
    "# Similarily we can make an array for the defender roll\n",
    "defend_roll = np.random.randint(1,7, size= [1000,2])\n",
    "'''print (attack_roll[:20]) \n",
    "print (defend_roll[:20])'''"
   ]
  },
  {
   "cell_type": "code",
   "execution_count": 89,
   "metadata": {},
   "outputs": [
    {
     "ename": "NameError",
     "evalue": "name 'attack_loses' is not defined",
     "output_type": "error",
     "traceback": [
      "\u001b[1;31m---------------------------------------------------------------------------\u001b[0m",
      "\u001b[1;31mNameError\u001b[0m                                 Traceback (most recent call last)",
      "Cell \u001b[1;32mIn[89], line 21\u001b[0m\n\u001b[0;32m     19\u001b[0m     defend_loses \u001b[38;5;241m+\u001b[39m\u001b[38;5;241m1\u001b[39m \n\u001b[0;32m     20\u001b[0m \u001b[38;5;28;01melse\u001b[39;00m:\n\u001b[1;32m---> 21\u001b[0m         attack_loses \u001b[38;5;241m+\u001b[39m\u001b[38;5;241m1\u001b[39m\n",
      "\u001b[1;31mNameError\u001b[0m: name 'attack_loses' is not defined"
     ]
    }
   ],
   "source": [
    "# Now I need to compare the 2 arrays and determine the results\n",
    "max_attack_value1= np.max(attack_roll, axis= 1)\n",
    "\n",
    "# Sorted each row in the array in descending order as I have done below and selected the first and second elements.\n",
    "max_attack_value2 = np.sort(attack_roll,axis=1)[:,-2]\n",
    "\n",
    "# We can replicate for the defender rolls\n",
    "max_defend_value1 =  np.max(defend_roll, axis= 1)\n",
    "max_defend_value2 = np.sort(defend_roll,axis=1)[:,-2]\n",
    "\n",
    "# We then need to determine what dice rolls are winning.\n",
    "if max_attack_value1.all() > max_defend_value1.all():\n",
    "    attack_loses= 0\n",
    "    defend_loses= 1\n",
    "elif max_attack_value1.all() < max_defend_value2.all():\n",
    "    attack_loses = 1\n",
    "    defend_loses = 0\n",
    "if max_attack_value2.all() > max_defend_value2.all():\n",
    "    defend_loses +1 \n",
    "else:\n",
    "    attack_loses +1 \n",
    "\n",
    "\n"
   ]
  },
  {
   "cell_type": "markdown",
   "metadata": {},
   "source": [
    "Resources: \n",
    "https://stackoverflow.com/questions/12090472/how-do-i-center-an-image-in-the-readme-md-file-on-github- how to put in an image and centre it in markdown.\n",
    "https://stackoverflow.com/questions/69731158/best-way-to-loop-through-randomly-generated-array - how to generate the arrays \n",
    "https://stackoverflow.com/questions/69731158/best-way-to-loop-through-randomly-generated-array - article on how to use sort after the initial max"
   ]
  }
 ],
 "metadata": {
  "kernelspec": {
   "display_name": "base",
   "language": "python",
   "name": "python3"
  },
  "language_info": {
   "codemirror_mode": {
    "name": "ipython",
    "version": 3
   },
   "file_extension": ".py",
   "mimetype": "text/x-python",
   "name": "python",
   "nbconvert_exporter": "python",
   "pygments_lexer": "ipython3",
   "version": "3.12.4"
  }
 },
 "nbformat": 4,
 "nbformat_minor": 2
}
