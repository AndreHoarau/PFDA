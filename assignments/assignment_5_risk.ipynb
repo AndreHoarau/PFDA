{
 "cells": [
  {
   "cell_type": "markdown",
   "metadata": {},
   "source": [
    "# Risk Assignment \n",
    "### Author Andre Hoarau\n",
    "<p align=\"center\">\n",
    "<img src =\"https://i2.pickpik.com/photos/192/49/172/risk-word-letters-boggle-preview.jpg\"\n",
    "</p>"
   ]
  },
  {
   "cell_type": "markdown",
   "metadata": {},
   "source": [
    "The task is to simulate 1000 individual battle rounds in risk with 3 attackers and 2 defenders and plot the results.\n",
    "The rules:\n",
    "    In Risk one army fights another. (using 6 sided dice)\n",
    "\n",
    "    In each battle round, the attacker can put forward up to three of their troops (3 dice).\n",
    "\n",
    "    The defender can use up to two of their defending troops (2 dice).\n",
    "\n",
    "    Each side looses troops depending on the following rules:\n",
    "\n",
    "    The two top dice dice are compared (ie the attackers top dice roll with the defenders top dice roll) \n",
    "    If the attackers dice is the same or lower they loose one troop otherwise the defender looses a troop (ie if the attackers dice is higher)\n",
    "    The next two highest dice from each side are then compared (ie the attackers second highest to the defenders second highest)\n",
    "    If the attackers dice is the same or lower they loose one troop otherwise the defender looses a troop (ie if the attackers dice is higher)"
   ]
  },
  {
   "cell_type": "code",
   "execution_count": null,
   "metadata": {},
   "outputs": [],
   "source": [
    "# Lets import the packages we will use.\n",
    "import numpy as np\n",
    "import matplotlib.pyplot as plt\n",
    "# Lets make an array for the attacker roll.\n",
    "attack_roll = np.random.randint(1,7, size= [1000,3],)\n",
    "# Similarily we can make an array for the defender roll\n",
    "defend_roll = np.random.randint(1,7, size= [1000,2])\n",
    "'''print (attack_roll[:20]) \n",
    "print (defend_roll[:20])'''"
   ]
  },
  {
   "cell_type": "code",
   "execution_count": null,
   "metadata": {},
   "outputs": [],
   "source": [
    "# I was hoping to use this later on in the more complicated scenario but realised that this relies on the same number of rounds.\n",
    "def calculate_losses(attack_roll, defend_roll):\n",
    "    # Now I need to compare the 2 arrays and determine the results\n",
    "    max_attack_value1= np.max(attack_roll, axis= 1)\n",
    "    # Sorted each row in the array in descending order as I have done below and selected the first and second elements.\n",
    "    max_attack_value2 = np.sort(attack_roll,axis=1)[:,-2]\n",
    "    # We can replicate for the defender rolls\n",
    "    max_defend_value1 =  np.max(defend_roll, axis= 1)\n",
    "    max_defend_value2 = np.sort(defend_roll,axis=1)[:,-2]\n",
    "    # We then need to determine what dice rolls are winning.\n",
    "    attack_loses1 = (max_attack_value1 <= max_defend_value1).astype(int)\n",
    "    defend_loses1 = (max_attack_value1 > max_defend_value1).astype(int)\n",
    "    attack_loses2 = (max_attack_value2 <= max_defend_value2).astype(int)\n",
    "    defend_loses2 = (max_attack_value2 > max_defend_value2).astype(int)\n",
    "    # Sum up the losses for each row\n",
    "    attack_loses_per_row = attack_loses1 + attack_loses2\n",
    "    defend_loses_per_row = defend_loses1 + defend_loses2\n",
    "    \n",
    "    return attack_loses_per_row, defend_loses_per_row\n",
    "\n",
    "attack_loses_per_row, defend_loses_per_row = calculate_losses(attack_roll, defend_roll)\n",
    "\n",
    "# Print results for each row\n",
    "for i in range(len(attack_loses_per_row)):\n",
    "    print(f\"Row {i + 1}: Attack Loses = {attack_loses_per_row[i]}, Defend Loses = {defend_loses_per_row[i]}\")\n",
    "\n"
   ]
  },
  {
   "cell_type": "code",
   "execution_count": null,
   "metadata": {},
   "outputs": [],
   "source": [
    "import matplotlib.pyplot as plt\n",
    "import numpy as np\n",
    "\n",
    "count_attack_0_defend_2 = 0\n",
    "count_attack_1_defend_1 = 0\n",
    "count_attack_2_defend_0 = 0\n",
    "\n",
    "for loses in attack_loses_per_row:\n",
    "    if loses == 0:\n",
    "        count_attack_0_defend_2 += 1\n",
    "    elif loses == 1:\n",
    "        count_attack_1_defend_1 += 1\n",
    "    elif loses == 2:\n",
    "        count_attack_2_defend_0 += 1\n",
    "\n",
    "# Data\n",
    "outcomes = ['Attack Loses 2, Defend Loses 0', 'Attack Loses 1, Defend Loses 1', 'Attack Loses 0, Defend Loses 2']\n",
    "counts = [count_attack_2_defend_0, count_attack_1_defend_1, count_attack_0_defend_2]\n",
    "\n",
    "# Plot\n",
    "plt.figure(figsize=(10, 6))\n",
    "plt.bar(outcomes, counts, color=['skyblue', 'salmon', 'lightgreen'], width=0.6)\n",
    "\n",
    "# Enhancements\n",
    "plt.title('Frequency of Attack and Defend Outcomes', fontsize=14, fontweight='bold')\n",
    "plt.xlabel('Outcome', fontsize=12)\n",
    "plt.ylabel('Count of Simulations', fontsize=12)\n",
    "plt.xticks(rotation=45, ha='right', fontsize=10)\n",
    "plt.yticks(fontsize=10)\n",
    "plt.grid(axis='y', linestyle='--', alpha=0.7)\n",
    "\n",
    "# Add data labels\n",
    "for i, count in enumerate(counts):\n",
    "    plt.text(i, count + 0.5, str(count), ha='center', va='bottom', fontsize=10)\n",
    "\n",
    "# Show plot\n",
    "plt.tight_layout()\n",
    "plt.show()\n"
   ]
  },
  {
   "cell_type": "markdown",
   "metadata": {},
   "source": [
    "## Overall the graph above initially confused me. I thought that statistically that as draws in dice go to the defender that it was more likely for 2 defenders to win more often then 2 attackers. I reran my code generating new random sets of rolls to see if it was a statistical anomaly. After some additional research though I found that:\n",
    "\n",
    "\n",
    "The probabilities are as follows:\n",
    "\n",
    "$$\n",
    "P(\\text{Attacker loses two units}) = \\frac{2275}{7776} \\approx 0.293\n",
    "$$\n",
    "\n",
    "$$\n",
    "P(\\text{Defender loses two units}) = \\frac{2890}{7776} \\approx 0.372\n",
    "$$\n",
    "\n",
    "$$\n",
    "P(\\text{Both lose one unit}) = \\frac{2611}{7776} \\approx 0.336\n",
    "$$\n",
    "\n",
    "## Therefore it we can see that the defender losing 2 units is the statistically most probable outcome as having extra dice outweighs winning in a draw."
   ]
  },
  {
   "cell_type": "markdown",
   "metadata": {},
   "source": [
    "# The more complicated version\n",
    "## This is going to take values of armies of arbitrary sizes and continue until one is wiped out and then plot those results."
   ]
  },
  {
   "cell_type": "code",
   "execution_count": null,
   "metadata": {},
   "outputs": [],
   "source": [
    "# First we will generate our attack and defend army sizes.\n",
    "attack_army_size = np.random.randint(1,1001)\n",
    "defend_army_size = np.random.randint(1,1001)    \n",
    "print(f\"The attack army size is {attack_army_size} and the defend army size is {defend_army_size}\")"
   ]
  },
  {
   "cell_type": "code",
   "execution_count": null,
   "metadata": {},
   "outputs": [],
   "source": [
    "import matplotlib.pyplot as plt\n",
    "\n",
    "# Initialize lists to store army sizes per round\n",
    "rounds_list = []\n",
    "attack_army_sizes = []\n",
    "defend_army_sizes = []\n",
    "\n",
    "rounds = 0\n",
    "while attack_army_size > 0 and defend_army_size > 0:\n",
    "    rounds += 1\n",
    "    rounds_list.append(rounds)\n",
    "    attack_army_sizes.append(attack_army_size)\n",
    "    defend_army_sizes.append(defend_army_size)\n",
    "\n",
    "    print(f\"Round {rounds}: Attacker Army Size = {attack_army_size}, Defender Army Size = {defend_army_size}\")\n",
    "    \n",
    "    attack_dice = min(3, attack_army_size)\n",
    "    defend_dice = min(2, defend_army_size)\n",
    "    \n",
    "    attack_roll2 = np.random.randint(1, 7, size=(min(attack_army_size, defend_army_size), attack_dice))\n",
    "    defend_roll2 = np.random.randint(1, 7, size=(min(attack_army_size, defend_army_size), defend_dice))\n",
    "\n",
    "    attack_army_loss = 0\n",
    "    defend_army_loss = 0\n",
    "\n",
    "    # Sort each row in descending order\n",
    "    attack_roll2 = np.sort(attack_roll2, axis=1)[:, ::-1]\n",
    "    defend_roll2 = np.sort(defend_roll2, axis=1)[:, ::-1]\n",
    "\n",
    "    for i in range(min(attack_dice, defend_dice)):\n",
    "        if attack_roll2[i, 0] > defend_roll2[i, 0]:\n",
    "            defend_army_loss += 1\n",
    "        else:\n",
    "            attack_army_loss += 1\n",
    "\n",
    "    attack_army_size -= attack_army_loss\n",
    "    defend_army_size -= defend_army_loss\n",
    "\n",
    "    # Ensure army sizes don't go below zero\n",
    "    attack_army_size = max(attack_army_size, 0)\n",
    "    defend_army_size = max(defend_army_size, 0)\n",
    "\n",
    "# Outcome\n",
    "if attack_army_size > 0:\n",
    "    print(f\"The attacker won in {rounds} rounds.\")\n",
    "else:\n",
    "    print(f\"The defender won in {rounds} rounds.\")\n",
    "\n",
    "# Plotting the army sizes with enhanced formatting\n",
    "plt.plot(rounds_list, attack_army_sizes, label=\"Attacker Army Size\", color='blue', linestyle='-', linewidth=2)\n",
    "plt.plot(rounds_list, defend_army_sizes, label=\"Defender Army Size\", color='red', linestyle='--', linewidth=2)\n",
    "plt.xlabel('Rounds', fontsize=12)\n",
    "plt.ylabel('Army Size', fontsize=12)\n",
    "plt.title('Army Sizes Over Time in Risk Battle', fontsize=14)\n",
    "plt.legend(loc='upper right', fontsize=10)\n",
    "\n",
    "# Adding gridlines and background color\n",
    "plt.grid(True, which='both', linestyle='--', linewidth=0.5, alpha=0.7)\n",
    "plt.gca().set_facecolor('#f0f0f0')\n",
    "\n",
    "# Display the plot\n",
    "plt.show()\n"
   ]
  },
  {
   "cell_type": "markdown",
   "metadata": {},
   "source": [
    "Resources: \n",
    "* [How do I center an image in the README.md file on GitHub?](https://stackoverflow.com/questions/12090472/how-do-i-center-an-image-in-the-readme-md-file-on-github) - Stackoverflow article on how to put in an image and centre it in markdown.\n",
    "* [best way to loop through randomly generated array](https://stackoverflow.com/questions/69731158/best-way-to-loop-through-randomly-generated-array) - Stackoverflow article on how to generate the arrays \n",
    "* [NumPy: Compare two arrays element-wise]( https://note.nkmk.me/en/python-numpy-ndarray-compare/)- Chat GPT helped direct me to the element wise comparisons notes are also available here.\n",
    "* [Python Functions: How to Call & Write Functions](https://www.datacamp.com/tutorial/functions-python-tutorial?utm_source=google&utm_medium=paid_search&utm_campaignid=19589720824&utm_adgroupid=157156376311&utm_device=c&utm_keyword=&utm_matchtype=&utm_network=g&utm_adpostion=&utm_creative=720362650453&utm_targetid=aud-1704732079567:dsa-2218886984100&utm_loc_interest_ms=&utm_loc_physical_ms=1007877&utm_content=&utm_campaign=230119_1-sea~dsa~tofu_2-b2c_3-row-p2_4-prc_5-na_6-na_7-le_8-pdsh-go_9-nb-e_10-na_11-na-bfcm24&gad_source=1&gclid=Cj0KCQiAgJa6BhCOARIsAMiL7V8NQL9rTSMg0zuXxclI6wwLPr9HuqHJK0VU4a5wC_J_MgMScVaF0L4aAj7lEALw_wcB)- Documentatino from datacamp I used to refresh myself on funtions.\n",
    "* [Python For Loops](https://w3schools.com/python/python_for_loops.asp)- W3 schools article on for loops in python.\n",
    "* [Quantifying Strategy: The Mathematics of Tabletop Games](https://www.quantifyingstrategy.com/2020/11/who-has-advantage-in-risk-attacker-or.html)- An interesting statistical analysis of risk."
   ]
  },
  {
   "cell_type": "markdown",
   "metadata": {},
   "source": [
    "# End"
   ]
  }
 ],
 "metadata": {
  "kernelspec": {
   "display_name": "base",
   "language": "python",
   "name": "python3"
  },
  "language_info": {
   "codemirror_mode": {
    "name": "ipython",
    "version": 3
   },
   "file_extension": ".py",
   "mimetype": "text/x-python",
   "name": "python",
   "nbconvert_exporter": "python",
   "pygments_lexer": "ipython3",
   "version": "3.12.4"
  }
 },
 "nbformat": 4,
 "nbformat_minor": 2
}
